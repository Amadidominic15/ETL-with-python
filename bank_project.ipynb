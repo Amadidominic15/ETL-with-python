{
 "cells": [
  {
   "cell_type": "code",
   "execution_count": 28,
   "id": "f8549f26",
   "metadata": {},
   "outputs": [],
   "source": [
    "# importing libraries\n",
    "\n",
    "import pandas as pd\n",
    "import numpy as np\n",
    "import os\n",
    "import sqlite3\n",
    "import requests\n",
    "from datetime import datetime\n",
    "from bs4 import BeautifulSoup"
   ]
  },
  {
   "cell_type": "code",
   "execution_count": 29,
   "id": "b396f194",
   "metadata": {},
   "outputs": [],
   "source": [
    "# setting environments\n",
    "\n",
    "url = 'https://web.archive.org/web/20230908091635 /https://en.wikipedia.org/wiki/List_of_largest_banks'\n",
    "db_name = 'Banks.db'\n",
    "table_name = 'Largest_banks'\n",
    "table_attribs = ['Name', 'MC_USD_Billion']\n",
    "table_attribs_1 = ['Name', 'MC_USD_Billion', 'MC_GBP_Billion', 'MC_EUR_Billion', 'MC_INR_Billion']\n",
    "csv_path = './Largest_banks_data.csv'\n",
    "\n",
    "sql_connection = sqlite3.connect(db_name)"
   ]
  },
  {
   "cell_type": "code",
   "execution_count": null,
   "id": "d0690768",
   "metadata": {},
   "outputs": [],
   "source": []
  },
  {
   "cell_type": "code",
   "execution_count": 30,
   "id": "0d6b7ddb",
   "metadata": {},
   "outputs": [],
   "source": [
    "def extract(url, table_attribs):\n",
    "    ''' This function aims to extract the required\n",
    "    information from the website and save it to a data frame. The\n",
    "    function returns the data frame for further processing. '''\n",
    "    \n",
    "    response = requests.get(url)\n",
    "    soup = BeautifulSoup(response.text, 'html.parser')\n",
    "    table = soup.find_all('tbody')\n",
    "    headers = table[0].find_all('th')\n",
    "    rows = table[0].find_all('tr')\n",
    "    records = []\n",
    "    for i in rows[1:]:\n",
    "        data = i.find_all('td')\n",
    "        row = [x.text.strip() for x in data[1:]]\n",
    "        records.append(row)\n",
    "        df = pd.DataFrame(records, columns = table_attribs)\n",
    "\n",
    "    return df\n",
    "\n",
    "#extract(url, table_attribs)\n",
    "df = extract(url, table_attribs)"
   ]
  },
  {
   "cell_type": "code",
   "execution_count": 31,
   "id": "5c1b42d5",
   "metadata": {
    "scrolled": true
   },
   "outputs": [],
   "source": [
    "def transform(df):\n",
    "    ''' This function converts the market cap column to float and adds three columns to the data frame, each\n",
    "    containing the transformed version of Market Cap column to\n",
    "    respective currencies according to exchange rate'''\n",
    "    \n",
    "    exchange_rate = pd.read_csv(r\"Downloads\\exchange_rate.csv\")\n",
    "    exchange_rate = exchange_rate.set_index('Currency').to_dict()['Rate']\n",
    "    df['MC_USD_Billion'] = df['MC_USD_Billion'].astype(float)\n",
    "    df['MC_GBP_Billion'] = [np.round(x*0.82,2) for x in df['MC_USD_Billion']]\n",
    "    df['MC_EUR_Billion'] = [np.round(x*0.93,2) for x in df['MC_USD_Billion']]\n",
    "    df['MC_INR_Billion'] = [np.round(x*82.95,2) for x in df['MC_USD_Billion']]\n",
    "\n",
    "    return df\n",
    "\n",
    "df = transform(df)"
   ]
  },
  {
   "cell_type": "code",
   "execution_count": 32,
   "id": "28c1acfc",
   "metadata": {},
   "outputs": [],
   "source": [
    "def load_to_csv(df, output_path):\n",
    "    ''' This function saves the final data frame as a CSV file in\n",
    "    the provided path. Function returns nothing.'''\n",
    "\n",
    "    df.to_csv(csv_path)\n"
   ]
  },
  {
   "cell_type": "code",
   "execution_count": 33,
   "id": "00e6a3b5",
   "metadata": {},
   "outputs": [],
   "source": [
    "def load_to_db(df, sql_connection, table_name):\n",
    "    ''' This function saves the final data frame to a database\n",
    "    table with the provided name. Function returns nothing.'''\n",
    "    \n",
    "    df.to_sql(table_name, sql_connection, if_exists = 'replace', index = False)\n"
   ]
  },
  {
   "cell_type": "code",
   "execution_count": 34,
   "id": "b1f52203",
   "metadata": {},
   "outputs": [],
   "source": [
    "def run_query(query_statement, sql_connection):\n",
    "    ''' This function runs the query on the database table and\n",
    "    prints the output on the terminal. Function returns nothing. '''\n",
    "    \n",
    "    print(query_statement)\n",
    "    query_output = pd.read_sql(query_statement, sql_connection)\n",
    "    print(query_output)\n",
    "\n",
    "    ''' Here, you define the required entities and call the relevant\n",
    "    functions in the correct order to complete the project. Note that this\n",
    "    portion is not inside any function.'''"
   ]
  },
  {
   "cell_type": "code",
   "execution_count": 35,
   "id": "a5edb47a",
   "metadata": {},
   "outputs": [
    {
     "name": "stdout",
     "output_type": "stream",
     "text": [
      "SELECT * FROM Largest_banks\n",
      "                                      Name  MC_USD_Billion  MC_GBP_Billion  \\\n",
      "0                           JPMorgan Chase          432.92          354.99   \n",
      "1                          Bank of America          231.52          189.85   \n",
      "2  Industrial and Commercial Bank of China          194.56          159.54   \n",
      "3               Agricultural Bank of China          160.68          131.76   \n",
      "4                                HDFC Bank          157.91          129.49   \n",
      "5                              Wells Fargo          155.87          127.81   \n",
      "6                        HSBC Holdings PLC          148.90          122.10   \n",
      "7                           Morgan Stanley          140.83          115.48   \n",
      "8                  China Construction Bank          139.82          114.65   \n",
      "9                            Bank of China          136.81          112.18   \n",
      "\n",
      "   MC_EUR_Billion  MC_INR_Billion  \n",
      "0          402.62        35910.71  \n",
      "1          215.31        19204.58  \n",
      "2          180.94        16138.75  \n",
      "3          149.43        13328.41  \n",
      "4          146.86        13098.63  \n",
      "5          144.96        12929.42  \n",
      "6          138.48        12351.26  \n",
      "7          130.97        11681.85  \n",
      "8          130.03        11598.07  \n",
      "9          127.23        11348.39  \n",
      "SELECT AVG(MC_GBP_Billion) FROM Largest_banks\n",
      "   AVG(MC_GBP_Billion)\n",
      "0              155.785\n",
      "SELECT Name from Largest_banks LIMIT 5\n",
      "                                      Name\n",
      "0                           JPMorgan Chase\n",
      "1                          Bank of America\n",
      "2  Industrial and Commercial Bank of China\n",
      "3               Agricultural Bank of China\n",
      "4                                HDFC Bank\n"
     ]
    }
   ],
   "source": [
    "# logging process\n",
    "\n",
    "def log_progress(message):\n",
    "    ''' This function logs the mentioned message of a given stage of the\n",
    "    code execution to a log file. Function returns nothing''' \n",
    "    \n",
    "    timestamp_format = '%Y-%h-%d-%H:%M:%S' # Year-Monthname-Day-Hour-Minute-Second \n",
    "    now = datetime.now() # get current timestamp \n",
    "    timestamp = now.strftime(timestamp_format) \n",
    "    with open(\"./code_log.txt\",\"a\") as f: \n",
    "        f.write(timestamp + ' : ' + message + '\\n')\n",
    "        \n",
    "        \n",
    "log_progress('Preliminaries complete. Initiating ETL process')\n",
    "\n",
    "df = extract(url, table_attribs)\n",
    "\n",
    "log_progress('Data extraction complete. Initiating Transformation process')\n",
    "\n",
    "df = transform(df)\n",
    "\n",
    "log_progress('Data transformation complete. Initiating loading process')\n",
    "\n",
    "load_to_csv(df, csv_path)\n",
    "\n",
    "log_progress('Data saved to CSV file')\n",
    "\n",
    "sql_connection = sqlite3.connect('World_Economies.db')\n",
    "\n",
    "log_progress('SQL Connection initiated.')\n",
    "\n",
    "load_to_db(df, sql_connection, table_name)\n",
    "\n",
    "log_progress('Data loaded to Database as table. Running the query')\n",
    "\n",
    "query_statement = f'SELECT * FROM {table_name}'\n",
    "query_statement1 = f'SELECT AVG(MC_GBP_Billion) FROM {table_name}'\n",
    "query_statement2 = f'SELECT Name from {table_name} LIMIT 5'\n",
    "run_query(query_statement, sql_connection)\n",
    "run_query(query_statement1, sql_connection)\n",
    "run_query(query_statement2, sql_connection)\n",
    "\n",
    "log_progress('Process Complete.')\n",
    "\n",
    "sql_connection.close()\n",
    "\n",
    "log_progress('Server Connection closed')"
   ]
  },
  {
   "cell_type": "code",
   "execution_count": null,
   "id": "33afac06",
   "metadata": {},
   "outputs": [],
   "source": []
  }
 ],
 "metadata": {
  "kernelspec": {
   "display_name": "Python 3 (ipykernel)",
   "language": "python",
   "name": "python3"
  },
  "language_info": {
   "codemirror_mode": {
    "name": "ipython",
    "version": 3
   },
   "file_extension": ".py",
   "mimetype": "text/x-python",
   "name": "python",
   "nbconvert_exporter": "python",
   "pygments_lexer": "ipython3",
   "version": "3.9.13"
  }
 },
 "nbformat": 4,
 "nbformat_minor": 5
}
